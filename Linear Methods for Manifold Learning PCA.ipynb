{
 "cells": [
  {
   "cell_type": "markdown",
   "metadata": {},
   "source": [
    "# Linear Methods of Manifold Learning\n",
    "The goal of PCA is to decompose a matrix into a linear combination of variables that contain most of the information in the matrix. Hence, it can be termed a Linear Method of Manifold Learning. The space on to which the original data-points are projected and the transformation/ mapping are linear.<br>\n",
    "We use numpy module in python to deal with large arrays and matrices and matplotlib.pyplot to plot the data.<br>\n",
    "We have performed our dimensionality reduction on MNIST Dataset of Handwritten Digits."
   ]
  },
  {
   "cell_type": "code",
   "execution_count": 109,
   "metadata": {},
   "outputs": [
    {
     "name": "stdout",
     "output_type": "stream",
     "text": [
      "<class 'sklearn.utils.Bunch'>\n",
      "(1797, 64)\n"
     ]
    }
   ],
   "source": [
    "import numpy as np\n",
    "import matplotlib.pyplot as plt \n",
    "\n",
    "#load the dataset - MNIST\n",
    "from sklearn.datasets import load_digits\n",
    "digits = load_digits()\n",
    "print(digits.data.shape) #tuple of matrix dimensions\n",
    "#print(digits.DESCR) #print description"
   ]
  },
  {
   "cell_type": "markdown",
   "metadata": {},
   "source": [
    "## Principle Component Analysis (PCA) \n",
    "Identify the principle components which are linear combinations of the dataset. The first component caputures maximum variance in the dataset, the second captures the remaining variance and so on. \n",
    "1. Compute the covariance matrix for this dataset\n",
    "2. Decompose the covariance matrix to its eigen values and corresponding eigen vectors\n",
    "3. Sort the eigen values in decreasing order \n",
    "4. Choose the first k values and their corresponding eigen vectors to get a transformation matrix for projections in the new subspace of k dimensions\n",
    "5. The product of the projection matrix with the original data will give new data in subspace"
   ]
  },
  {
   "cell_type": "markdown",
   "metadata": {},
   "source": [
    "Let us now step through the steps of PCA algorithm and see its effect on a single image from MNIST dataset. This is how the images are stored numerically in the MNIST dataset and how that translates into an image."
   ]
  },
  {
   "cell_type": "code",
   "execution_count": 33,
   "metadata": {},
   "outputs": [
    {
     "name": "stdout",
     "output_type": "stream",
     "text": [
      "[[ 0.  0.  5. 13.  9.  1.  0.  0.]\n",
      " [ 0.  0. 13. 15. 10. 15.  5.  0.]\n",
      " [ 0.  3. 15.  2.  0. 11.  8.  0.]\n",
      " [ 0.  4. 12.  0.  0.  8.  8.  0.]\n",
      " [ 0.  5.  8.  0.  0.  9.  8.  0.]\n",
      " [ 0.  4. 11.  0.  1. 12.  7.  0.]\n",
      " [ 0.  2. 14.  5. 10. 12.  0.  0.]\n",
      " [ 0.  0.  6. 13. 10.  0.  0.  0.]]\n"
     ]
    },
    {
     "data": {
      "text/plain": [
       "<Figure size 432x288 with 0 Axes>"
      ]
     },
     "metadata": {},
     "output_type": "display_data"
    },
    {
     "data": {
      "image/png": "[encoded data removed]",
      "text/plain": [
       "<Figure size 288x288 with 1 Axes>"
      ]
     },
     "metadata": {
      "needs_background": "light"
     },
     "output_type": "display_data"
    }
   ],
   "source": [
    "print(digits.images[0])\n",
    "plt.gray() #sets the color map to gray\n",
    "plt.matshow(digits.images[0]) #Display an array as a matrix - the upper left corner is set as the origin and rows are displayed horizontally\n",
    "plt.show() #show the plot"
   ]
  },
  {
   "cell_type": "markdown",
   "metadata": {},
   "source": [
    "Now we shall make a covariance matrix of this image and find its eigen values and vectors through SVD."
   ]
  },
  {
   "cell_type": "code",
   "execution_count": 127,
   "metadata": {},
   "outputs": [],
   "source": [
    "cov_mat = np.cov(digits.images[0]) #make covariance matrix of one image\n",
    "\n",
    "eig_val_cov, eig_vec_cov = np.linalg.eig(cov_mat) #compute eigen values and eigen vectors\n",
    "#eig_val_cov is each eigenvalue and its corresponding eigenvector an array in eig_vec_cov\n",
    "\n",
    "# Make a list of (eigenvalue, eigenvector) tuples\n",
    "eig_pairs = [(eig_val_cov[i], eig_vec_cov[i]) for i in range(len(eig_val_cov))]"
   ]
  },
  {
   "cell_type": "code",
   "execution_count": 129,
   "metadata": {},
   "outputs": [
    {
     "name": "stdout",
     "output_type": "stream",
     "text": [
      "[[  4.42198328 -10.08761957]\n",
      " [ -2.68783348  -7.96919305]\n",
      " [ -3.32277565   2.95309698]\n",
      " [ -2.29278217   3.72669213]\n",
      " [ -3.44307895   4.00405093]\n",
      " [ -4.23419356   4.58125471]\n",
      " [  0.66926503  -0.27381888]\n",
      " [  5.41990823 -10.42547351]]\n"
     ]
    },
    {
     "data": {
      "text/plain": [
       "<Figure size 432x288 with 0 Axes>"
      ]
     },
     "metadata": {},
     "output_type": "display_data"
    },
    {
     "data": {
      "image/png": "[encoded data removed]",
      "text/plain": [
       "<Figure size 288x1152 with 1 Axes>"
      ]
     },
     "metadata": {
      "needs_background": "light"
     },
     "output_type": "display_data"
    }
   ],
   "source": [
    "eig_pairs = sorted(eig_pairs, key=(lambda x: x[0]), reverse=True) #sort the eigen values\n",
    "eig_pairs = np.array(eig_pairs)\n",
    "\n",
    "transform = np.hstack(\n",
    "    [eig_pairs[i, 1].reshape(digits.images[0].shape[1], 1) for i in range(2)] #transpose of each eigen vector of the top k eigen values\n",
    ")\n",
    "\n",
    "new_img = np.dot(digits.images[0], transform)\n",
    "print(new_img)\n",
    "plt.gray() #sets the color map to gray\n",
    "plt.matshow(new_img) #Display an array as a matrix - the upper left corner is set as the origin and rows are displayed horizontally\n",
    "plt.show() #show the plot"
   ]
  },
  {
   "cell_type": "markdown",
   "metadata": {},
   "source": [
    "### function to perform PCA on each image"
   ]
  },
  {
   "cell_type": "code",
   "execution_count": 182,
   "metadata": {},
   "outputs": [],
   "source": [
    "def pca(image, k):\n",
    "    cov_mat = np.cov(image)\n",
    "    eig_val_cov, eig_vec_cov = np.linalg.eig(cov_mat)\n",
    "    eig_pairs = [(np.abs(eig_val_cov[i]), eig_vec_cov[i]) for i in range(len(eig_val_cov))]\n",
    "    eig_pairs = sorted(eig_pairs, key=(lambda x: x[0]), reverse=True)\n",
    "    eig_pairs = np.array(eig_pairs)\n",
    "    transform = np.hstack(\n",
    "        [eig_pairs[i, 1].reshape(image.shape[1], 1) for i in range(k)]\n",
    "    )\n",
    "    new_img = np.dot(image, transform)\n",
    "    return new_img, transform"
   ]
  },
  {
   "cell_type": "markdown",
   "metadata": {},
   "source": [
    "Reduce the dimensionality of all the images in MNIST "
   ]
  },
  {
   "cell_type": "code",
   "execution_count": 167,
   "metadata": {},
   "outputs": [
    {
     "data": {
      "text/plain": [
       "1797"
      ]
     },
     "execution_count": 167,
     "metadata": {},
     "output_type": "execute_result"
    }
   ],
   "source": [
    "digits.new_images = []\n",
    "for old_img in digits.images:\n",
    "    digits.new_images.append(pca(old_img,2))\n",
    "len(digits.new_images)"
   ]
  },
  {
   "cell_type": "markdown",
   "metadata": {},
   "source": [
    "### Reconstruct the images from the transform matrix"
   ]
  },
  {
   "cell_type": "code",
   "execution_count": 206,
   "metadata": {},
   "outputs": [
    {
     "data": {
      "text/plain": [
       "Text(0.5, 0, 'original.png')"
      ]
     },
     "execution_count": 206,
     "metadata": {},
     "output_type": "execute_result"
    },
    {
     "data": {
      "image/png": "[encoded data removed]",
      "text/plain": [
       "<Figure size 288x288 with 1 Axes>"
      ]
     },
     "metadata": {
      "needs_background": "light"
     },
     "output_type": "display_data"
    },
    {
     "data": {
      "image/png": "[encoded data removed]",
      "text/plain": [
       "<Figure size 288x288 with 1 Axes>"
      ]
     },
     "metadata": {
      "needs_background": "light"
     },
     "output_type": "display_data"
    },
    {
     "data": {
      "image/png": "[encoded data removed]",
      "text/plain": [
       "<Figure size 288x288 with 1 Axes>"
      ]
     },
     "metadata": {
      "needs_background": "light"
     },
     "output_type": "display_data"
    },
    {
     "data": {
      "image/png": "[encoded data removed]",
      "text/plain": [
       "<Figure size 288x288 with 1 Axes>"
      ]
     },
     "metadata": {
      "needs_background": "light"
     },
     "output_type": "display_data"
    },
    {
     "data": {
      "image/png": "[encoded data removed]",
      "text/plain": [
       "<Figure size 288x288 with 1 Axes>"
      ]
     },
     "metadata": {
      "needs_background": "light"
     },
     "output_type": "display_data"
    },
    {
     "data": {
      "image/png": "[encoded data removed]",
      "text/plain": [
       "<Figure size 288x288 with 1 Axes>"
      ]
     },
     "metadata": {
      "needs_background": "light"
     },
     "output_type": "display_data"
    },
    {
     "data": {
      "image/png": "[encoded data removed]",
      "text/plain": [
       "<Figure size 288x288 with 1 Axes>"
      ]
     },
     "metadata": {
      "needs_background": "light"
     },
     "output_type": "display_data"
    },
    {
     "data": {
      "image/png": "[encoded data removed]",
      "text/plain": [
       "<Figure size 288x288 with 1 Axes>"
      ]
     },
     "metadata": {
      "needs_background": "light"
     },
     "output_type": "display_data"
    },
    {
     "data": {
      "image/png": "[encoded data removed]",
      "text/plain": [
       "<Figure size 288x288 with 1 Axes>"
      ]
     },
     "metadata": {
      "needs_background": "light"
     },
     "output_type": "display_data"
    }
   ],
   "source": [
    "def inverse_pca(img, components):\n",
    "    reconstruct = np.dot(img, components.T).astype(int)\n",
    "    return reconstruct #.reshape(-1,8,8)\n",
    "    \n",
    "for i in range(8):\n",
    "    pca_image, transform = pca(digits.images[0], i+1)\n",
    "    reconstruct = inverse_pca(pca_image, transform)\n",
    "    plt.matshow(reconstruct)\n",
    "    plt.xlabel('reconstruct'+str(i+1))\n",
    "\n",
    "plt.matshow(digits.images[0])\n",
    "plt.xlabel('original.png')"
   ]
  }
 ],
 "metadata": {
  "kernelspec": {
   "display_name": "Python 3",
   "language": "python",
   "name": "python3"
  },
  "language_info": {
   "codemirror_mode": {
    "name": "ipython",
    "version": 3
   },
   "file_extension": ".py",
   "mimetype": "text/x-python",
   "name": "python",
   "nbconvert_exporter": "python",
   "pygments_lexer": "ipython3",
   "version": "3.7.4"
  }
 },
 "nbformat": 4,
 "nbformat_minor": 2
}
